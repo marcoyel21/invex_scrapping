{
 "cells": [
  {
   "cell_type": "code",
   "execution_count": 3,
   "id": "provincial-forty",
   "metadata": {},
   "outputs": [],
   "source": [
    "#############################\n",
    "#READ DATAFROM MYSQL\n",
    "#############################\n",
    "import mysql.connector\n",
    "import yaml\n",
    "import pandas as pd\n",
    "config_file = open('config.yaml', 'r')\n",
    "config = yaml.safe_load(config_file)\n",
    "con = mysql.connector.connect(**config['connection'])\n",
    "\n",
    "### PD dataframes\n",
    "portfolio_holdings_monthly=pd.read_sql('SELECT * FROM invexdb.portfolio_holdings_monthly', con=con)\n",
    "portfolio_summary_monthly=pd.read_sql('SELECT * FROM invexdb.portfolio_summary_monthly', con=con)\n"
   ]
  },
  {
   "cell_type": "code",
   "execution_count": null,
   "id": "driving-break",
   "metadata": {},
   "outputs": [],
   "source": []
  }
 ],
 "metadata": {
  "kernelspec": {
   "display_name": "Python 3",
   "language": "python",
   "name": "python3"
  },
  "language_info": {
   "codemirror_mode": {
    "name": "ipython",
    "version": 3
   },
   "file_extension": ".py",
   "mimetype": "text/x-python",
   "name": "python",
   "nbconvert_exporter": "python",
   "pygments_lexer": "ipython3",
   "version": "3.8.5"
  }
 },
 "nbformat": 4,
 "nbformat_minor": 5
}
